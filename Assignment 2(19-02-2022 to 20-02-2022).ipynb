{
 "cells": [
  {
   "cell_type": "markdown",
   "id": "952c2f4c",
   "metadata": {},
   "source": [
    "### Assignment 2(19-02-2022 to 20-02-2022)"
   ]
  },
  {
   "cell_type": "markdown",
   "id": "a49c93cf",
   "metadata": {},
   "source": [
    "#### 1.\tGet the input for 2 variables though “input” function and pass them to a function to return the addition of two variables"
   ]
  },
  {
   "cell_type": "code",
   "execution_count": 8,
   "id": "3ca9fcdc",
   "metadata": {},
   "outputs": [
    {
     "name": "stdout",
     "output_type": "stream",
     "text": [
      "Enter the first variable:3\n",
      "Enter the second variable:4\n"
     ]
    }
   ],
   "source": [
    "var1 = int(input('Enter the first variable:'))\n",
    "var2 = int(input('Enter the second variable:'))\n",
    "\n",
    "sum=var1+var2"
   ]
  },
  {
   "cell_type": "code",
   "execution_count": 9,
   "id": "8cf96d6c",
   "metadata": {},
   "outputs": [
    {
     "name": "stdout",
     "output_type": "stream",
     "text": [
      "7\n"
     ]
    }
   ],
   "source": [
    "print(sum)"
   ]
  },
  {
   "cell_type": "markdown",
   "id": "adae2768",
   "metadata": {},
   "source": [
    "#### 2.\tWhat happens if we try to add an int with str and vice versa. Please print out the error"
   ]
  },
  {
   "cell_type": "code",
   "execution_count": 10,
   "id": "b5ace424",
   "metadata": {},
   "outputs": [
    {
     "ename": "TypeError",
     "evalue": "can only concatenate str (not \"int\") to str",
     "output_type": "error",
     "traceback": [
      "\u001b[1;31m---------------------------------------------------------------------------\u001b[0m",
      "\u001b[1;31mTypeError\u001b[0m                                 Traceback (most recent call last)",
      "\u001b[1;32m~\\AppData\\Local\\Temp/ipykernel_5464/3512919061.py\u001b[0m in \u001b[0;36m<module>\u001b[1;34m\u001b[0m\n\u001b[0;32m      3\u001b[0m \u001b[0my\u001b[0m\u001b[1;33m=\u001b[0m \u001b[1;36m2022\u001b[0m\u001b[1;33m\u001b[0m\u001b[1;33m\u001b[0m\u001b[0m\n\u001b[0;32m      4\u001b[0m \u001b[1;33m\u001b[0m\u001b[0m\n\u001b[1;32m----> 5\u001b[1;33m \u001b[0mprint\u001b[0m\u001b[1;33m(\u001b[0m\u001b[0ms\u001b[0m \u001b[1;33m+\u001b[0m \u001b[0my\u001b[0m\u001b[1;33m)\u001b[0m\u001b[1;33m\u001b[0m\u001b[1;33m\u001b[0m\u001b[0m\n\u001b[0m",
      "\u001b[1;31mTypeError\u001b[0m: can only concatenate str (not \"int\") to str"
     ]
    }
   ],
   "source": [
    "s = 'Year is '\n",
    "\n",
    "y= 2022\n",
    "\n",
    "print(s + y)"
   ]
  },
  {
   "cell_type": "code",
   "execution_count": 16,
   "id": "966c88e1",
   "metadata": {},
   "outputs": [
    {
     "name": "stdout",
     "output_type": "stream",
     "text": [
      "Year is 2022\n"
     ]
    }
   ],
   "source": [
    "s = 'Year is '\n",
    "\n",
    "y= 2022\n",
    "\n",
    "print(s + str(y))"
   ]
  },
  {
   "cell_type": "markdown",
   "id": "cef62a81",
   "metadata": {},
   "source": [
    "#### 3.\tCreate a string variable for the word “Data Science” and see if the letter “s” is present in it using membership operators"
   ]
  },
  {
   "cell_type": "code",
   "execution_count": 20,
   "id": "262feea2",
   "metadata": {},
   "outputs": [
    {
     "name": "stdout",
     "output_type": "stream",
     "text": [
      "True\n"
     ]
    }
   ],
   "source": [
    "a= 'Data science'\n",
    "print('s' in a)"
   ]
  },
  {
   "cell_type": "markdown",
   "id": "763838b5",
   "metadata": {},
   "source": [
    "#### 4.\tWrite a function and pass a number list as an argument to the function. And return True if the first and last number of a given list is same. If numbers are different then return False"
   ]
  },
  {
   "cell_type": "code",
   "execution_count": 34,
   "id": "b71e2063",
   "metadata": {},
   "outputs": [
    {
     "name": "stdout",
     "output_type": "stream",
     "text": [
      "False\n"
     ]
    }
   ],
   "source": [
    "def funct(lis):\n",
    "    if (lis[0] == lis[-1]):\n",
    "        print ('True')\n",
    "    else:\n",
    "        print ('False')\n",
    "lis = [1,2,3,4,5]\n",
    "funct(lis)"
   ]
  },
  {
   "cell_type": "code",
   "execution_count": 36,
   "id": "78069b51",
   "metadata": {},
   "outputs": [
    {
     "name": "stdout",
     "output_type": "stream",
     "text": [
      "True\n"
     ]
    }
   ],
   "source": [
    "lis1=[1,2,4,5,1]\n",
    "funct(lis1)"
   ]
  },
  {
   "cell_type": "markdown",
   "id": "75793516",
   "metadata": {},
   "source": [
    "#### 5.\tIterate the given list of numbers (l1) and print only those numbers which are divisible by 5. (l1 = [10, 20, 33, 46, 55])"
   ]
  },
  {
   "cell_type": "code",
   "execution_count": 48,
   "id": "71d40152",
   "metadata": {},
   "outputs": [
    {
     "name": "stdout",
     "output_type": "stream",
     "text": [
      "[10, 20, 55]\n"
     ]
    }
   ],
   "source": [
    "l1 = [10, 20, 33, 46, 55]\n",
    "a= [x for x in l1 if x % 5 == 0]\n",
    "print(a)\n",
    "    "
   ]
  },
  {
   "cell_type": "markdown",
   "id": "79eff0ff",
   "metadata": {},
   "source": [
    "#### 6.\tWrite a program to create function calculation() such that it can accept two variables and calculate addition and subtraction. Also, it must return both addition and subtraction in a single return call.   a.\tHint: Separate return values with a comma\n"
   ]
  },
  {
   "cell_type": "code",
   "execution_count": 54,
   "id": "0e7017bd",
   "metadata": {},
   "outputs": [
    {
     "name": "stdout",
     "output_type": "stream",
     "text": [
      "Enter the a value34\n",
      "Enter the b value22\n",
      "56\n",
      "12\n"
     ]
    },
    {
     "data": {
      "text/plain": [
       "(56, 12)"
      ]
     },
     "execution_count": 54,
     "metadata": {},
     "output_type": "execute_result"
    }
   ],
   "source": [
    "def calculation(a,b):\n",
    "    return a+b, a-b\n",
    "\n",
    "a1=int(input(\"Enter the a value\"))\n",
    "b2=int(input(\"Enter the b value\"))\n",
    "print(a1+b2)\n",
    "print(a1- b2)\n",
    "calculation(a1,b2)"
   ]
  },
  {
   "cell_type": "markdown",
   "id": "c1cebab4",
   "metadata": {},
   "source": [
    "#### 7.\tWrite a program to demonstrate the following Syntax error\n",
    "a.\tSyntaxError: non-default argument follows default argument\n"
   ]
  },
  {
   "cell_type": "code",
   "execution_count": 55,
   "id": "54e861f0",
   "metadata": {},
   "outputs": [
    {
     "ename": "SyntaxError",
     "evalue": "non-default argument follows default argument (Temp/ipykernel_5464/2391097380.py, line 1)",
     "output_type": "error",
     "traceback": [
      "\u001b[1;36m  File \u001b[1;32m\"C:\\Users\\Laksh\\AppData\\Local\\Temp/ipykernel_5464/2391097380.py\"\u001b[1;36m, line \u001b[1;32m1\u001b[0m\n\u001b[1;33m    def greet(arg2 =\" Good Morning\", arg1):\u001b[0m\n\u001b[1;37m                                         ^\u001b[0m\n\u001b[1;31mSyntaxError\u001b[0m\u001b[1;31m:\u001b[0m non-default argument follows default argument\n"
     ]
    }
   ],
   "source": [
    "def greet(arg2 =\" Good Morning\", arg1):\n",
    "    print(\"hello\", arg2)"
   ]
  },
  {
   "cell_type": "markdown",
   "id": "833b5d49",
   "metadata": {},
   "source": [
    "#### 8.\tWhat’s recursion? Explain in your own words and write a program to create a recursive function to calculate the sum of numbers from 0 to 10"
   ]
  },
  {
   "cell_type": "markdown",
   "id": "d058dca6",
   "metadata": {},
   "source": [
    "##### Recursion is a function that calls itself"
   ]
  },
  {
   "cell_type": "code",
   "execution_count": 61,
   "id": "3e9b92da",
   "metadata": {},
   "outputs": [
    {
     "data": {
      "text/plain": [
       "55"
      ]
     },
     "execution_count": 61,
     "metadata": {},
     "output_type": "execute_result"
    }
   ],
   "source": [
    "def recursion(x):\n",
    "     if x ==0:\n",
    "        return x\n",
    "     else:\n",
    "        return (x + recursion(x-1))\n",
    "        \n",
    "x=10\n",
    "recursion(x)"
   ]
  },
  {
   "cell_type": "markdown",
   "id": "9b006b11",
   "metadata": {},
   "source": [
    "#### 9.\tUse filter and lambda function to calculate square for below numbers only if they are odd number a.\t[12, 11, 53, 22, 21, 77, 87, 88, 98]\n"
   ]
  },
  {
   "cell_type": "code",
   "execution_count": 63,
   "id": "867fc93d",
   "metadata": {},
   "outputs": [
    {
     "name": "stdout",
     "output_type": "stream",
     "text": [
      "[121, 2809, 441, 5929, 7569]\n",
      "square val  11  =  121\n",
      "square val  53  =  2809\n",
      "square val  21  =  441\n",
      "square val  77  =  5929\n",
      "square val  87  =  7569\n"
     ]
    }
   ],
   "source": [
    "a=[12, 11, 53, 22, 21, 77, 87, 88, 98]\n",
    "\n",
    "val =list(filter(lambda x : x % 2 == 1, a))\n",
    "val2 =list(map(lambda x : x * x ,val))\n",
    "print(val2)\n",
    "for i in val:\n",
    "    print(\"square val \",i,\" = \",i*i)"
   ]
  },
  {
   "cell_type": "markdown",
   "id": "c8aca955",
   "metadata": {},
   "source": [
    "#### Write a function (not a lambda function) and use it to demonstrate an example for map function (any logical function of your choice)"
   ]
  },
  {
   "cell_type": "code",
   "execution_count": 66,
   "id": "7bc66607",
   "metadata": {},
   "outputs": [
    {
     "name": "stdout",
     "output_type": "stream",
     "text": [
      "[15, 16, 16, 17, 18, 19]\n"
     ]
    }
   ],
   "source": [
    "def function(n):\n",
    "    return n+10\n",
    "\n",
    "list1 = [5,6,6,7,8,9]\n",
    "#result=map(addition,list1) return object\n",
    "result=list(map(function,list1))\n",
    "\n",
    "print(result)"
   ]
  },
  {
   "cell_type": "code",
   "execution_count": null,
   "id": "ee5ffed0",
   "metadata": {},
   "outputs": [],
   "source": []
  }
 ],
 "metadata": {
  "kernelspec": {
   "display_name": "Python 3 (ipykernel)",
   "language": "python",
   "name": "python3"
  },
  "language_info": {
   "codemirror_mode": {
    "name": "ipython",
    "version": 3
   },
   "file_extension": ".py",
   "mimetype": "text/x-python",
   "name": "python",
   "nbconvert_exporter": "python",
   "pygments_lexer": "ipython3",
   "version": "3.9.7"
  }
 },
 "nbformat": 4,
 "nbformat_minor": 5
}
