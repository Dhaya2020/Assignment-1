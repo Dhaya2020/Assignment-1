{
 "cells": [
  {
   "cell_type": "markdown",
   "id": "82dd86fa",
   "metadata": {},
   "source": [
    "### Assignment 3 (26-02-2022 to 27-02-2022)"
   ]
  },
  {
   "cell_type": "markdown",
   "id": "ce1cc55f",
   "metadata": {},
   "source": [
    "#### 1.\tCreate a file calc.py which has following functions\n",
    "a.\tFunction to find the factorial of a number\n",
    "b.\tFunction to convert degree to Fahrenheit\n"
   ]
  },
  {
   "cell_type": "code",
   "execution_count": 1,
   "id": "c80cb846",
   "metadata": {},
   "outputs": [],
   "source": [
    "import numpy as np"
   ]
  },
  {
   "cell_type": "code",
   "execution_count": 6,
   "id": "d17e54cc",
   "metadata": {},
   "outputs": [
    {
     "ename": "NameError",
     "evalue": "name 'cal' is not defined",
     "output_type": "error",
     "traceback": [
      "\u001b[1;31m---------------------------------------------------------------------------\u001b[0m",
      "\u001b[1;31mNameError\u001b[0m                                 Traceback (most recent call last)",
      "\u001b[1;32m~\\AppData\\Local\\Temp/ipykernel_1792/2574009666.py\u001b[0m in \u001b[0;36m<module>\u001b[1;34m\u001b[0m\n\u001b[0;32m      1\u001b[0m \u001b[1;32mfrom\u001b[0m \u001b[0mmypackage\u001b[0m \u001b[1;32mimport\u001b[0m \u001b[0mcalc\u001b[0m\u001b[1;33m\u001b[0m\u001b[1;33m\u001b[0m\u001b[0m\n\u001b[1;32m----> 2\u001b[1;33m \u001b[0mmypackage\u001b[0m \u001b[1;33m=\u001b[0m \u001b[0mcal\u001b[0m\u001b[1;33m.\u001b[0m\u001b[0ma\u001b[0m\u001b[1;33m\u001b[0m\u001b[1;33m\u001b[0m\u001b[0m\n\u001b[0m\u001b[0;32m      3\u001b[0m \u001b[0ma\u001b[0m\u001b[1;33m=\u001b[0m\u001b[0mcal\u001b[0m\u001b[1;33m.\u001b[0m\u001b[0mfactorial\u001b[0m\u001b[1;33m(\u001b[0m\u001b[1;36m10\u001b[0m\u001b[1;33m)\u001b[0m\u001b[1;33m\u001b[0m\u001b[1;33m\u001b[0m\u001b[0m\n",
      "\u001b[1;31mNameError\u001b[0m: name 'cal' is not defined"
     ]
    }
   ],
   "source": [
    "from mypackage import calc\n",
    "mypackage = cal.a\n",
    "a=cal.factorial(10)"
   ]
  },
  {
   "cell_type": "markdown",
   "id": "5c463a47",
   "metadata": {},
   "source": [
    "#### 2.\tImplement a simple generator for Fibonacci series"
   ]
  },
  {
   "cell_type": "code",
   "execution_count": 7,
   "id": "b9d0b56d",
   "metadata": {},
   "outputs": [],
   "source": [
    "def fibonacci(n):\n",
    "    a = -1\n",
    "    b = 1\n",
    "    for i in range(n):\n",
    "        c = a + b\n",
    "        print(c)\n",
    "        a = b\n",
    "        b = c"
   ]
  },
  {
   "cell_type": "code",
   "execution_count": 8,
   "id": "229fec71",
   "metadata": {},
   "outputs": [
    {
     "name": "stdout",
     "output_type": "stream",
     "text": [
      "0\n",
      "1\n",
      "1\n",
      "2\n",
      "3\n"
     ]
    }
   ],
   "source": [
    "fibonacci(5)"
   ]
  },
  {
   "cell_type": "markdown",
   "id": "ffe15306",
   "metadata": {},
   "source": [
    "#### 3.\tWrite an iterator class to iterate over a sequence of values in the reverse direction"
   ]
  },
  {
   "cell_type": "code",
   "execution_count": 10,
   "id": "62d506e0",
   "metadata": {},
   "outputs": [
    {
     "ename": "TypeError",
     "evalue": "iter() returned non-iterator of type 'MySequence'",
     "output_type": "error",
     "traceback": [
      "\u001b[1;31m---------------------------------------------------------------------------\u001b[0m",
      "\u001b[1;31mTypeError\u001b[0m                                 Traceback (most recent call last)",
      "\u001b[1;32m~\\AppData\\Local\\Temp/ipykernel_1792/590963264.py\u001b[0m in \u001b[0;36m<module>\u001b[1;34m\u001b[0m\n\u001b[0;32m     10\u001b[0m         \u001b[1;32mreturn\u001b[0m \u001b[0mx\u001b[0m\u001b[1;33m\u001b[0m\u001b[1;33m\u001b[0m\u001b[0m\n\u001b[0;32m     11\u001b[0m \u001b[1;33m\u001b[0m\u001b[0m\n\u001b[1;32m---> 12\u001b[1;33m \u001b[1;32mfor\u001b[0m \u001b[0mi\u001b[0m \u001b[1;32min\u001b[0m \u001b[0mMySequence\u001b[0m\u001b[1;33m(\u001b[0m\u001b[1;33m)\u001b[0m\u001b[1;33m:\u001b[0m\u001b[1;33m\u001b[0m\u001b[1;33m\u001b[0m\u001b[0m\n\u001b[0m\u001b[0;32m     13\u001b[0m     \u001b[1;32mif\u001b[0m \u001b[1;33m(\u001b[0m\u001b[0mi\u001b[0m \u001b[1;33m==\u001b[0m \u001b[1;36m0\u001b[0m\u001b[1;33m)\u001b[0m\u001b[1;33m:\u001b[0m\u001b[1;33m\u001b[0m\u001b[1;33m\u001b[0m\u001b[0m\n\u001b[0;32m     14\u001b[0m         \u001b[1;32mbreak\u001b[0m\u001b[1;33m\u001b[0m\u001b[1;33m\u001b[0m\u001b[0m\n",
      "\u001b[1;31mTypeError\u001b[0m: iter() returned non-iterator of type 'MySequence'"
     ]
    }
   ],
   "source": [
    "class MySequence():\n",
    " \n",
    "    def __iter__(self):\n",
    "        self.x = 10\n",
    "        return self\n",
    " \n",
    "    def next(self):\n",
    "        x = self.x\n",
    "        self.x = x - 1;\n",
    "        return x\n",
    "\n",
    "for i in MySequence():\n",
    "    if (i == 0):\n",
    "        break\n",
    "    print(i)"
   ]
  },
  {
   "cell_type": "markdown",
   "id": "2008b0e5",
   "metadata": {},
   "source": [
    "#### 4.\tWrite a function “salary” that takes in base pay, HRA and special allowance as arguments and returns the sum of all the 3 salary elements. Then create a decorator function to add an additional element “Tax” (30% of base pay) and assign it back to base pay variable, and return the function (i.e., the final calculation of salary also includes tax)"
   ]
  },
  {
   "cell_type": "code",
   "execution_count": 11,
   "id": "5809ead3",
   "metadata": {},
   "outputs": [
    {
     "name": "stdout",
     "output_type": "stream",
     "text": [
      "It is a decorator function ... \n"
     ]
    },
    {
     "data": {
      "text/plain": [
       "19000.0"
      ]
     },
     "execution_count": 11,
     "metadata": {},
     "output_type": "execute_result"
    }
   ],
   "source": [
    "def Salary(BasePay, HRA, SpecialAllowance):\n",
    "    return(BasePay + HRA + SpecialAllowance)\n",
    "\n",
    "def IncomeTax(Function, a, b, c):\n",
    "    print('It is a decorator function ... ')\n",
    "    NetPay = Function(a, b, c)\n",
    "    Tax = a * 0.3\n",
    "    return(NetPay - Tax)\n",
    "\n",
    "IncomeTax(Salary, 10000, 3000, 9000)"
   ]
  },
  {
   "cell_type": "markdown",
   "id": "0de7f193",
   "metadata": {},
   "source": [
    "#### 5.\tWrite 3 examples on possible methods to changing a tuple"
   ]
  },
  {
   "cell_type": "code",
   "execution_count": 13,
   "id": "e484061a",
   "metadata": {},
   "outputs": [
    {
     "name": "stdout",
     "output_type": "stream",
     "text": [
      "Initial Tuple is :  ('Sam', 'Joe', 'Jill', 'Jack')\n",
      "Converted List from a Tuple is : ['Sam', 'Joe', 'Jill', 'Jack']\n",
      "New Tuple using First Method : ('Bill', 'Joe', 'Jill', 'Jack')\n",
      "Converted List from a Tuple is : ['Bill', 'Joe', 'Jill', 'Jack']\n",
      "New Tuple using Second Method : ('Bill', 'Joe', 'Jill', 'Jack', 'Alex')\n",
      "New Tuple using Third Method : ('Bill', 'Joe', 'Jill', 'Jack', 'Alex', 'John')\n"
     ]
    }
   ],
   "source": [
    "MyTuple = ('Sam', 'Joe', 'Jill', 'Jack')\n",
    "print('Initial Tuple is : ',MyTuple)\n",
    "\n",
    "# First method of changing the values of a Tuple\n",
    "MyList = list(MyTuple)\n",
    "print('Converted List from a Tuple is :',MyList)\n",
    "MyList[0] = 'Bill'\n",
    "MyTuple = tuple(MyList)\n",
    "print('New Tuple using First Method :', MyTuple)\n",
    "\n",
    "# Second method of changing the values of a Tuple\n",
    "MyList = list(MyTuple)\n",
    "print('Converted List from a Tuple is :',MyList)\n",
    "MyList.append('Alex')\n",
    "MyTuple = tuple(MyList)\n",
    "print('New Tuple using Second Method :', MyTuple)\n",
    "\n",
    "# Second method of changing the values of a Tuple\n",
    "NewTuple = ('John',)\n",
    "MyTuple += NewTuple\n",
    "print('New Tuple using Third Method :', MyTuple)"
   ]
  },
  {
   "cell_type": "code",
   "execution_count": null,
   "id": "8bf71861",
   "metadata": {},
   "outputs": [],
   "source": []
  }
 ],
 "metadata": {
  "kernelspec": {
   "display_name": "Python 3 (ipykernel)",
   "language": "python",
   "name": "python3"
  },
  "language_info": {
   "codemirror_mode": {
    "name": "ipython",
    "version": 3
   },
   "file_extension": ".py",
   "mimetype": "text/x-python",
   "name": "python",
   "nbconvert_exporter": "python",
   "pygments_lexer": "ipython3",
   "version": "3.9.7"
  }
 },
 "nbformat": 4,
 "nbformat_minor": 5
}
