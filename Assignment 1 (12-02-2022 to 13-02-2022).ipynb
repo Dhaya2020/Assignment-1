{
 "cells": [
  {
   "cell_type": "markdown",
   "id": "24c60c1e",
   "metadata": {},
   "source": [
    "### Assignment 1 (12-02-2022 to 13-02-2022)"
   ]
  },
  {
   "cell_type": "markdown",
   "id": "bbc91e23",
   "metadata": {},
   "source": [
    "#### 1.\tImport the necessary package to a.\tSet the current working directory b.\tChange the working directory\n",
    "\n",
    "\n"
   ]
  },
  {
   "cell_type": "code",
   "execution_count": 3,
   "id": "590e7a08",
   "metadata": {},
   "outputs": [],
   "source": [
    "import os\n",
    "import numpy as py"
   ]
  },
  {
   "cell_type": "code",
   "execution_count": 52,
   "id": "8c5ba293",
   "metadata": {
    "scrolled": true
   },
   "outputs": [
    {
     "name": "stdout",
     "output_type": "stream",
     "text": [
      "Current Working Directory:  C:\\\n",
      "\n",
      "Current Working Directory after:  None\n"
     ]
    }
   ],
   "source": [
    "def current_path():\n",
    "    print(\"Current Working Directory: \" , os.getcwd())\n",
    "    print()\n",
    "current_path()\n",
    "\n",
    "print(\"Current Working Directory after: \" , os.chdir('C:/'))\n"
   ]
  },
  {
   "cell_type": "markdown",
   "id": "f5628793",
   "metadata": {},
   "source": [
    "#### 2.\tCreate the string, int and float variable and delete them all in the next cell"
   ]
  },
  {
   "cell_type": "code",
   "execution_count": 113,
   "id": "728843b8",
   "metadata": {},
   "outputs": [
    {
     "name": "stdout",
     "output_type": "stream",
     "text": [
      "Datascience\n",
      "10\n",
      "9.1\n",
      "['Datascience', 10, 9.1]\n"
     ]
    }
   ],
   "source": [
    "str  = 'Datascience'\n",
    "int = 10\n",
    "float = 9.10\n",
    "list = [str,int,float]\n",
    "print(str)\n",
    "print(int)\n",
    "print(float)\n",
    "print(list)\n"
   ]
  },
  {
   "cell_type": "code",
   "execution_count": 125,
   "id": "74f913db",
   "metadata": {},
   "outputs": [
    {
     "name": "stdout",
     "output_type": "stream",
     "text": [
      "[]\n"
     ]
    }
   ],
   "source": [
    "del list[0:2]\n",
    "print(list)\n"
   ]
  },
  {
   "cell_type": "code",
   "execution_count": 123,
   "id": "f60e650a",
   "metadata": {
    "scrolled": true
   },
   "outputs": [
    {
     "name": "stdout",
     "output_type": "stream",
     "text": [
      "list after clear: <built-in method clear of list object at 0x0000025B37D5E980>\n"
     ]
    }
   ],
   "source": [
    "\n",
    "print(\"list after clear:\", list.clear)\n",
    "\n"
   ]
  },
  {
   "cell_type": "markdown",
   "id": "727e1f38",
   "metadata": {},
   "source": [
    "#### 3.\tWhat’s the result of assigning a value to a ‘keyword’? a.\tPlease highlight the error\n"
   ]
  },
  {
   "cell_type": "code",
   "execution_count": 126,
   "id": "17d08a2d",
   "metadata": {},
   "outputs": [
    {
     "ename": "SyntaxError",
     "evalue": "cannot assign to True (Temp/ipykernel_16068/3527205451.py, line 1)",
     "output_type": "error",
     "traceback": [
      "\u001b[1;36m  File \u001b[1;32m\"C:\\Users\\Laksh\\AppData\\Local\\Temp/ipykernel_16068/3527205451.py\"\u001b[1;36m, line \u001b[1;32m1\u001b[0m\n\u001b[1;33m    True = 20\u001b[0m\n\u001b[1;37m    ^\u001b[0m\n\u001b[1;31mSyntaxError\u001b[0m\u001b[1;31m:\u001b[0m cannot assign to True\n"
     ]
    }
   ],
   "source": [
    "True = 20\n",
    "Print(True)"
   ]
  },
  {
   "cell_type": "markdown",
   "id": "36f26b5d",
   "metadata": {},
   "source": [
    "#### 4.\tHow to write a multi-line statement and assign it to a variable (Note: Without using a backslash “\\” at the end of each line)"
   ]
  },
  {
   "cell_type": "code",
   "execution_count": 131,
   "id": "c0ed0339",
   "metadata": {},
   "outputs": [
    {
     "name": "stdout",
     "output_type": "stream",
     "text": [
      " My first line of comment\n",
      "My second line of comment\n",
      "My third line of comment\n"
     ]
    }
   ],
   "source": [
    "a= \"\"\" My first line of comment\n",
    "My second line of comment\n",
    "My third line of comment\"\"\"\n",
    "print(a)"
   ]
  },
  {
   "cell_type": "markdown",
   "id": "8a3230f7",
   "metadata": {},
   "source": [
    "#### 5.\tPrint the list of numbers from 100 to 999 with an interval (step size) of 8 between the numbers"
   ]
  },
  {
   "cell_type": "code",
   "execution_count": 144,
   "id": "3e1c53f1",
   "metadata": {},
   "outputs": [
    {
     "ename": "TypeError",
     "evalue": "'list' object is not callable",
     "output_type": "error",
     "traceback": [
      "\u001b[1;31m---------------------------------------------------------------------------\u001b[0m",
      "\u001b[1;31mTypeError\u001b[0m                                 Traceback (most recent call last)",
      "\u001b[1;32m~\\AppData\\Local\\Temp/ipykernel_16068/1659679298.py\u001b[0m in \u001b[0;36m<module>\u001b[1;34m\u001b[0m\n\u001b[1;32m----> 1\u001b[1;33m \u001b[0mlist\u001b[0m\u001b[1;33m(\u001b[0m\u001b[0mrange\u001b[0m\u001b[1;33m(\u001b[0m\u001b[1;36m1000\u001b[0m\u001b[1;33m)\u001b[0m\u001b[1;33m)\u001b[0m\u001b[1;33m\u001b[0m\u001b[1;33m\u001b[0m\u001b[0m\n\u001b[0m",
      "\u001b[1;31mTypeError\u001b[0m: 'list' object is not callable"
     ]
    }
   ],
   "source": [
    "list(range(1000))"
   ]
  },
  {
   "cell_type": "code",
   "execution_count": 151,
   "id": "4a394403",
   "metadata": {},
   "outputs": [
    {
     "name": "stdout",
     "output_type": "stream",
     "text": [
      "100\n",
      "108\n",
      "116\n",
      "124\n",
      "132\n",
      "140\n",
      "148\n",
      "156\n",
      "164\n",
      "172\n",
      "180\n",
      "188\n",
      "196\n",
      "204\n",
      "212\n",
      "220\n",
      "228\n",
      "236\n",
      "244\n",
      "252\n",
      "260\n",
      "268\n",
      "276\n",
      "284\n",
      "292\n",
      "300\n",
      "308\n",
      "316\n",
      "324\n",
      "332\n",
      "340\n",
      "348\n",
      "356\n",
      "364\n",
      "372\n",
      "380\n",
      "388\n",
      "396\n",
      "404\n",
      "412\n",
      "420\n",
      "428\n",
      "436\n",
      "444\n",
      "452\n",
      "460\n",
      "468\n",
      "476\n",
      "484\n",
      "492\n",
      "500\n",
      "508\n",
      "516\n",
      "524\n",
      "532\n",
      "540\n",
      "548\n",
      "556\n",
      "564\n",
      "572\n",
      "580\n",
      "588\n",
      "596\n",
      "604\n",
      "612\n",
      "620\n",
      "628\n",
      "636\n",
      "644\n",
      "652\n",
      "660\n",
      "668\n",
      "676\n",
      "684\n",
      "692\n",
      "700\n",
      "708\n",
      "716\n",
      "724\n",
      "732\n",
      "740\n",
      "748\n",
      "756\n",
      "764\n",
      "772\n",
      "780\n",
      "788\n",
      "796\n",
      "804\n",
      "812\n",
      "820\n",
      "828\n",
      "836\n",
      "844\n",
      "852\n",
      "860\n",
      "868\n",
      "876\n",
      "884\n",
      "892\n",
      "900\n",
      "908\n",
      "916\n",
      "924\n",
      "932\n",
      "940\n",
      "948\n",
      "956\n",
      "964\n",
      "972\n",
      "980\n",
      "988\n",
      "996\n"
     ]
    }
   ],
   "source": [
    "for i in range(100, 999, 8):\n",
    "    print(i)"
   ]
  },
  {
   "cell_type": "markdown",
   "id": "3d3a53c1",
   "metadata": {},
   "source": [
    "#### 6.\tWrite a “for” loop to print out the ‘n’ values and break out of the statement if the value is ‘n/2’"
   ]
  },
  {
   "cell_type": "code",
   "execution_count": 165,
   "id": "a6280166",
   "metadata": {},
   "outputs": [
    {
     "name": "stdout",
     "output_type": "stream",
     "text": [
      "26\n"
     ]
    }
   ],
   "source": [
    "n= (25,26,27,28)\n",
    "for i in n:\n",
    "    if i%2 ==0:\n",
    "        break\n",
    "print(i)"
   ]
  },
  {
   "cell_type": "markdown",
   "id": "1c5b557f",
   "metadata": {},
   "source": [
    "#### 7.\tWrite a simple function and call the docstring from outside the function"
   ]
  },
  {
   "cell_type": "code",
   "execution_count": 170,
   "id": "ed57f1bb",
   "metadata": {},
   "outputs": [],
   "source": [
    "def fun1():\n",
    "    \"\"\" It's a docstring\"\"\"\n",
    "    print ('This is a simple function')\n"
   ]
  },
  {
   "cell_type": "code",
   "execution_count": 171,
   "id": "77765096",
   "metadata": {},
   "outputs": [
    {
     "name": "stdout",
     "output_type": "stream",
     "text": [
      "This is a simple function\n"
     ]
    }
   ],
   "source": [
    "fun1()"
   ]
  },
  {
   "cell_type": "code",
   "execution_count": 172,
   "id": "004a55d0",
   "metadata": {},
   "outputs": [
    {
     "name": "stdout",
     "output_type": "stream",
     "text": [
      " It's a docstring\n"
     ]
    }
   ],
   "source": [
    "print(fun1.__doc__)"
   ]
  },
  {
   "cell_type": "markdown",
   "id": "9e7275bb",
   "metadata": {},
   "source": [
    "#### 8.\tCreate a user-defined package in ‘site-packages’ with below 3 variables a, b and c. Import these variables and write a function to calculate the area of triangle for below 3 sides (a, b, c). Calculate the semi-perimeter (s) first, to calculate the area of triangle (area) at last"
   ]
  },
  {
   "cell_type": "markdown",
   "id": "c2afae1d",
   "metadata": {},
   "source": [
    "##### Formula for semi- perimeter s = (a+b+c)/2\n",
    "##### Formula for area = √(s(s-a)*(s-b)*(s-c))"
   ]
  },
  {
   "cell_type": "code",
   "execution_count": 191,
   "id": "cda9ba80",
   "metadata": {},
   "outputs": [
    {
     "ename": "SyntaxError",
     "evalue": "invalid syntax (Temp/ipykernel_16068/2876559864.py, line 1)",
     "output_type": "error",
     "traceback": [
      "\u001b[1;36m  File \u001b[1;32m\"C:\\Users\\Laksh\\AppData\\Local\\Temp/ipykernel_16068/2876559864.py\"\u001b[1;36m, line \u001b[1;32m1\u001b[0m\n\u001b[1;33m    from my_package import User_defined package\u001b[0m\n\u001b[1;37m                                        ^\u001b[0m\n\u001b[1;31mSyntaxError\u001b[0m\u001b[1;31m:\u001b[0m invalid syntax\n"
     ]
    }
   ],
   "source": [
    "from my_package import User_defined package"
   ]
  },
  {
   "cell_type": "code",
   "execution_count": 193,
   "id": "7ab6a34d",
   "metadata": {
    "scrolled": true
   },
   "outputs": [
    {
     "ename": "SyntaxError",
     "evalue": "invalid syntax (Temp/ipykernel_16068/2591336463.py, line 1)",
     "output_type": "error",
     "traceback": [
      "\u001b[1;36m  File \u001b[1;32m\"C:\\Users\\Laksh\\AppData\\Local\\Temp/ipykernel_16068/2591336463.py\"\u001b[1;36m, line \u001b[1;32m1\u001b[0m\n\u001b[1;33m    a=User_defined package.a\u001b[0m\n\u001b[1;37m                   ^\u001b[0m\n\u001b[1;31mSyntaxError\u001b[0m\u001b[1;31m:\u001b[0m invalid syntax\n"
     ]
    }
   ],
   "source": [
    "a=User_defined package.a\n",
    "b=User_defined package.b\n",
    "c=User_defined package.c\n",
    "print(a)\n"
   ]
  },
  {
   "cell_type": "markdown",
   "id": "f85cfe94",
   "metadata": {},
   "source": [
    "#### 9.\tWrite a list comprehension to print the odd numbers from 0 to 100"
   ]
  },
  {
   "cell_type": "code",
   "execution_count": 194,
   "id": "b7fb8841",
   "metadata": {},
   "outputs": [
    {
     "name": "stdout",
     "output_type": "stream",
     "text": [
      "[0, 2, 4, 6, 8, 10, 12, 14, 16, 18, 20, 22, 24, 26, 28, 30, 32, 34, 36, 38, 40, 42, 44, 46, 48, 50, 52, 54, 56, 58, 60, 62, 64, 66, 68, 70, 72, 74, 76, 78, 80, 82, 84, 86, 88, 90, 92, 94, 96, 98]\n"
     ]
    }
   ],
   "source": [
    "list_com= [x for x in range(0,100) if x%2 == 0] \n",
    "print(list_com)"
   ]
  },
  {
   "cell_type": "markdown",
   "id": "72bd7e3d",
   "metadata": {},
   "source": [
    "#### Create a variable (ex: name) and store your full name in it. Then write a list comprehension to print your name excluding vowels (a, e, i, o, u)\n",
    "a.\tEx: name = Imran\n"
   ]
  },
  {
   "cell_type": "code",
   "execution_count": 196,
   "id": "25db8be1",
   "metadata": {},
   "outputs": [
    {
     "name": "stdout",
     "output_type": "stream",
     "text": [
      "['a', 'a', 'i', 'i', 'a', 'a']\n"
     ]
    }
   ],
   "source": [
    "Name= \"Dhaya srinivasan\"\n",
    "vowels=[\"a\",\"e,\",\"i\",\"o\",\"u\"]\n",
    "l=[]\n",
    "for i in Name:\n",
    "    if i in vowels:\n",
    "        l.append(i)\n",
    "print(l)"
   ]
  },
  {
   "cell_type": "code",
   "execution_count": null,
   "id": "70d8d912",
   "metadata": {},
   "outputs": [],
   "source": []
  }
 ],
 "metadata": {
  "kernelspec": {
   "display_name": "Python 3 (ipykernel)",
   "language": "python",
   "name": "python3"
  },
  "language_info": {
   "codemirror_mode": {
    "name": "ipython",
    "version": 3
   },
   "file_extension": ".py",
   "mimetype": "text/x-python",
   "name": "python",
   "nbconvert_exporter": "python",
   "pygments_lexer": "ipython3",
   "version": "3.9.7"
  }
 },
 "nbformat": 4,
 "nbformat_minor": 5
}
